{
 "cells": [
  {
   "cell_type": "code",
   "execution_count": 3,
   "id": "4153a45d-13ff-4826-a46e-3793a6d3ea1e",
   "metadata": {},
   "outputs": [],
   "source": [
    "import numpy as np\n",
    "\n",
    "def sigmoid(x) :\n",
    "    return 1.0/(1 + np.exp(-x)) \n",
    "\n",
    "def get_training_inputs(): #datos de entrenamiento de entrada \n",
    "    return np.array([[0, 0, 1],\n",
    "                     [1, 1, 1], \n",
    "                     [1, 0, 1],\n",
    "                     [0, 1, 1]])\n",
    "\n",
    "def get_training_outputs(): #datos de entrenamiento de salida \n",
    "    return np.array([0, 1, 1, 0]).reshape(4, 1) #¿porque el reshape 4,1 ? para verticalizar los datos\n",
    "\n",
    "def get_init_weights():\n",
    "    \"\"\"\n",
    "    Initially, simply return random weights in [-1, 1)\n",
    "    \"\"\"\n",
    "    return np.random.uniform(-1.0, 1.0, size=(3, 2)) #¿porque -1 y 1? porque es razonable pero no hay razon teorico (probar cambiandolo)\n",
    "\n",
    "def training_one_step(training_inputs, training_outputs, initial_weights):\n",
    "    # Forward pass\n",
    "    # iter only once\n",
    "    input_layer = training_inputs\n",
    "    outputs = sigmoid(np.dot(input_layer, initial_weights))\n",
    "    return outputs"
   ]
  },
  {
   "cell_type": "code",
   "execution_count": 4,
   "id": "6734ef13-75ed-4b92-b1fd-f81020970dd7",
   "metadata": {},
   "outputs": [
    {
     "name": "stdout",
     "output_type": "stream",
     "text": [
      "[[0 0 1]\n",
      " [1 1 1]\n",
      " [1 0 1]\n",
      " [0 1 1]]\n",
      "[[0]\n",
      " [1]\n",
      " [1]\n",
      " [0]]\n",
      "[[-0.16595599  0.44064899]\n",
      " [-0.99977125 -0.39533485]\n",
      " [-0.70648822 -0.81532281]]\n"
     ]
    }
   ],
   "source": [
    "np.random.seed(1) # what happens if you comment this?\n",
    "inputs_t = get_training_inputs()\n",
    "outputs_t = get_training_outputs()\n",
    "weights = get_init_weights()\n",
    "print(inputs_t)\n",
    "print(outputs_t)\n",
    "print(weights)"
   ]
  },
  {
   "cell_type": "code",
   "execution_count": 5,
   "id": "3be16d47-eb00-4ed1-a9d3-3e4ac7179a4f",
   "metadata": {},
   "outputs": [
    {
     "name": "stdout",
     "output_type": "stream",
     "text": [
      "Training outputs:\n",
      "[[0]\n",
      " [1]\n",
      " [1]\n",
      " [0]]\n",
      "Results after one step training:\n",
      "[[0.33037528 0.3067574 ]\n",
      " [0.13328558 0.31647723]\n",
      " [0.29474597 0.40741215]\n",
      " [0.15364951 0.22958471]]\n"
     ]
    }
   ],
   "source": [
    "outputs = training_one_step(inputs_t, outputs_t, weights)\n",
    "print(\"Training outputs:\")\n",
    "print(outputs_t)\n",
    "print(\"Results after one step training:\")\n",
    "print(outputs)"
   ]
  },
  {
   "cell_type": "code",
   "execution_count": 6,
   "id": "0f82b8d4-bd60-49e0-929b-a8a5546d48c3",
   "metadata": {},
   "outputs": [],
   "source": [
    "def sigmoid_prime(x):\n",
    "    return sigmoid(x)*(1-sigmoid(x))\n",
    "\n",
    "def train_nn(training_inputs, training_outputs, initial_weights, niter, errors_data, alpha = 1.0):\n",
    "    \"\"\"\n",
    "    training_inputs: asdasdasda\n",
    "    ...\n",
    "    errors_data: output - stores the errors per iteration\n",
    "    \"\"\"\n",
    "    w = initial_weights\n",
    "    for ii in range(niter):\n",
    "        # Forward propagation\n",
    "        input_layer = training_inputs\n",
    "        outputs = sigmoid(np.dot(input_layer, w))\n",
    "        # Backward propagation\n",
    "        errors = outputs - training_outputs\n",
    "        deltaw = errors*sigmoid_prime(outputs)\n",
    "        deltaw = np.dot(input_layer.T, deltaw) #.T is the transpose of the array \n",
    "        w = w - alpha*deltaw\n",
    "        # Save errors for plotting later\n",
    "        errors_data[ii] = errors.reshape((4,))\n",
    "    return outputs, w"
   ]
  },
  {
   "cell_type": "code",
   "execution_count": 7,
   "id": "9075d9eb-ea82-45ad-9173-596b3799cf7a",
   "metadata": {},
   "outputs": [],
   "source": [
    "np.random.seed(1) # what happens if you comment this?\n",
    "inputs_t = get_training_inputs()\n",
    "outputs_t = get_training_outputs()\n",
    "weights = get_init_weights()"
   ]
  },
  {
   "cell_type": "code",
   "execution_count": null,
   "id": "9bf7d4a5-f3f5-465e-8e8d-c395a8d6794b",
   "metadata": {},
   "outputs": [],
   "source": [
    "NITER = 50000\n",
    "errors = np.zeros((NITER, 4))\n",
    "outputs, weights = train_nn(inputs_t, outputs_t, weights, NITER, errors, alpha=0.9)\n",
    "print(\"Training outputs:\")\n",
    "print(outputs_t)\n",
    "print(\"Results after training:\")\n",
    "print(outputs)\n",
    "print(weights)"
   ]
  }
 ],
 "metadata": {
  "kernelspec": {
   "display_name": "Python 3 (ipykernel)",
   "language": "python",
   "name": "python3"
  },
  "language_info": {
   "codemirror_mode": {
    "name": "ipython",
    "version": 3
   },
   "file_extension": ".py",
   "mimetype": "text/x-python",
   "name": "python",
   "nbconvert_exporter": "python",
   "pygments_lexer": "ipython3",
   "version": "3.12.11"
  }
 },
 "nbformat": 4,
 "nbformat_minor": 5
}
