import pandas as pd
import numpy as np # We'll need numpy for more advanced NaN handling

# The official URL from the NASA Exoplanet Archive
# https://exoplanetarchive.ipac.caltech.edu/docs/data.html
url = "https://exoplanetarchive.ipac.caltech.edu/TAP/sync?query=select+pl_name,hostname,discoverymethod,pl_orbper,pl_rade,pl_bmasse,st_teff,st_rad,st_mass,disc_year+from+ps&format=csv"

# Load the data into a pandas DataFrame
df = pd.read_csv(url) # go and read the manual


print("Our Raw Exoplanet Data (First 5 Rows):")
print(df.head())


print("\n--- Mission Critical Info ---")
df.info()


df.describe()


df.isnull()


df.isnull().sum()



x = df.isnull().sum().tolist()
print(x)


y = [0] * len(x)  # Initialize y with the same length as x
for i in range(len(x)):
    y[i] = 38779 - x[i]
print(y)


df[['pl_orbper', 'pl_rade']]


# It's good practice to work on a copy
df_cleaned = df.copy()

# Calculate the median for the columns we want to fill
# We'll calculate them from the original data before we start changing it
median_radius = df_cleaned['st_teff'].median()
median_mass = df_cleaned['st_rad'].median()
median_orb_period = df_cleaned['st_mass'].median()

# Impute the missing values using the calculated medians
# df_cleaned['pl_rade'].fillna(median_radius, inplace=True) # Avoid inplace=True in a copy object
df_cleaned['st_teff'] = df_cleaned['st_teff'].fillna(median_radius)
df_cleaned['st_rad'] = df_cleaned['st_rad'].fillna(median_mass)
df_cleaned['st_mass'] = df_cleaned['st_mass'].fillna(median_orb_period)
# # or better use
# df_cleaned.fillna({
#     'pl_rade': df_cleaned['pl_rade'].median(),
#     'pl_bmasse': df_cleaned['pl_bmasse'].median(),
#     'pl_orbper': df_cleaned['pl_orbper'].median()
# }, inplace=True)

x[0] = df_cleaned['st_teff'].isnull().sum()
x[1] = df_cleaned['st_rad'].isnull().sum()
x[2] = df_cleaned['st_mass'].isnull().sum()
print(x)


import matplotlib.pyplot as plt
import seaborn as sns

# Set a nice style for our plots
sns.set_theme(style="whitegrid")

# Let's visualize the distribution of Planet Radius
plt.figure(figsize=(10, 6))
sns.boxplot(x=df_cleaned['pl_bmasse'])
plt.title('Distribution of Exoplanet Radii (in Earth Radii)')
plt.xscale('log') # Log scale is often essential for astronomical data!
plt.show()


# Explain this syntax
tmp = df_cleaned[df_cleaned['pl_bmasse'] < 800] # 



tmp



