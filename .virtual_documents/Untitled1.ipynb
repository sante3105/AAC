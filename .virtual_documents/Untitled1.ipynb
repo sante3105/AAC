# Build and train the model using Scikit-Learn
from sklearn.linear_model import LinearRegression
from sklearn.metrics import mean_squared_error, r2_score

# Create a linear regression model object
# Check https://scikit-learn.org/stable/modules/generated/sklearn.linear_model.LinearRegression.html
model = LinearRegression()

# Train the model using our data
# The .fit() method is where the 'learning' (Gradient Descent) happens!
model.fit(x_displacement, y_force) # USE ALL data                        



